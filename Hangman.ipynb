{
 "cells": [
  {
   "cell_type": "code",
   "execution_count": 52,
   "id": "70d8365e-7602-4fc8-bb14-e89d0c4cbe6f",
   "metadata": {},
   "outputs": [
    {
     "name": "stdout",
     "output_type": "stream",
     "text": [
      "HANGMAN GAME\n",
      "-----------------\n",
      " \n",
      " \n",
      " \n",
      "-----------------\n",
      "_ _ _ _ _\n",
      "g l a s s\n"
     ]
    },
    {
     "name": "stdin",
     "output_type": "stream",
     "text": [
      "Guess a letter:  g\n"
     ]
    },
    {
     "name": "stdout",
     "output_type": "stream",
     "text": [
      "HANGMAN GAME\n",
      "-----------------\n",
      " \n",
      " \n",
      " \n",
      "-----------------\n",
      "g _ _ _ _\n",
      "g l a s s\n"
     ]
    },
    {
     "name": "stdin",
     "output_type": "stream",
     "text": [
      "Guess a letter:  l\n"
     ]
    },
    {
     "name": "stdout",
     "output_type": "stream",
     "text": [
      "HANGMAN GAME\n",
      "-----------------\n",
      " \n",
      " \n",
      " \n",
      "-----------------\n",
      "g l _ _ _\n",
      "g l a s s\n"
     ]
    },
    {
     "name": "stdin",
     "output_type": "stream",
     "text": [
      "Guess a letter:  a\n"
     ]
    },
    {
     "name": "stdout",
     "output_type": "stream",
     "text": [
      "HANGMAN GAME\n",
      "-----------------\n",
      " \n",
      " \n",
      " \n",
      "-----------------\n",
      "g l a _ _\n",
      "g l a s s\n"
     ]
    },
    {
     "name": "stdin",
     "output_type": "stream",
     "text": [
      "Guess a letter:  s\n"
     ]
    },
    {
     "name": "stdout",
     "output_type": "stream",
     "text": [
      "YOU WIN! You guessed glass right\n"
     ]
    }
   ],
   "source": [
    "import random as rd \n",
    "\n",
    "words = ('banana', 'apple', 'book', 'pencil', 'eraser', 'computer', 'glass', 'mouse', 'dog', 'duck', 'cat', 'pasta', 'sandwich', 'honey', 'money', 'donkey')\n",
    "\n",
    "hangman = {1: (' o'),\n",
    "           2: (' o',\n",
    "            ' |'),\n",
    "           3: (' o',\n",
    "           '/|'),\n",
    "           4: (' o',\n",
    "           '/|\\\\'),\n",
    "           5: (' o',\n",
    "           '/|\\\\',\n",
    "           '/'),\n",
    "           6: (' o',\n",
    "           '/|\\\\',\n",
    "           '/ \\\\'),\n",
    "           0: (' ',\n",
    "               ' ',\n",
    "               ' ')\n",
    "          }\n",
    "\n",
    "def display_hangman(wrong_guesses):\n",
    "    print('HANGMAN GAME')\n",
    "    print('-----------------')\n",
    "    for line in hangman[wrong_guesses]:\n",
    "        print(line)\n",
    "    print('-----------------')\n",
    "    \n",
    "def display_hint(hint):\n",
    "    print(' '.join(hint))\n",
    "\n",
    "def display_answer(answer):\n",
    "    pass\n",
    "\n",
    "def main():\n",
    "    answer = rd.choice(words)\n",
    "    hint = ['_'] * len(answer)\n",
    "    wrong_guesses = 0\n",
    "    guessed_letters = set()\n",
    "    is_running = True\n",
    "\n",
    "    while is_running:\n",
    "        display_hangman(wrong_guesses)\n",
    "        display_hint(hint)\n",
    "        display_hint(answer)\n",
    "        guess = input('Guess a letter: ').lower()\n",
    "\n",
    "        if len(guess) != 1 or not guess.isalpha():\n",
    "            print('ERROR: INVALID INPUT')\n",
    "            continue\n",
    "\n",
    "        if guess in guessed_letters:\n",
    "            print(f'{guess} is alredy guessed! Try again')\n",
    "            continue\n",
    "            \n",
    "        guessed_letters.add(guess)\n",
    "\n",
    "        if guess in answer:\n",
    "            for i in range(len(answer)):\n",
    "                if answer[i] == guess:\n",
    "                    hint[i] = guess\n",
    "        else: \n",
    "            wrong_guesses += 1\n",
    "\n",
    "        if '_' not in hint: \n",
    "            print(f'YOU WIN! You guessed {answer} right')\n",
    "            is_running = False\n",
    "        elif wrong_guesses > 6:\n",
    "            print('YOU LOSE! BETTER LUCK NEXT TIME')\n",
    "            print(f'The answer was: {answer}')\n",
    "            is_running = False\n",
    "\n",
    "if __name__ == '__main__':\n",
    "    main()\n",
    "    "
   ]
  },
  {
   "cell_type": "code",
   "execution_count": null,
   "id": "bdbaf45d-9609-4838-ad1d-cdc2f62b56cb",
   "metadata": {},
   "outputs": [],
   "source": []
  }
 ],
 "metadata": {
  "kernelspec": {
   "display_name": "Python 3 (ipykernel)",
   "language": "python",
   "name": "python3"
  },
  "language_info": {
   "codemirror_mode": {
    "name": "ipython",
    "version": 3
   },
   "file_extension": ".py",
   "mimetype": "text/x-python",
   "name": "python",
   "nbconvert_exporter": "python",
   "pygments_lexer": "ipython3",
   "version": "3.11.9"
  }
 },
 "nbformat": 4,
 "nbformat_minor": 5
}
